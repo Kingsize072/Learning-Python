{
 "cells": [
  {
   "cell_type": "markdown",
   "id": "8ecee3de",
   "metadata": {},
   "source": [
    "**Input Method**"
   ]
  },
  {
   "cell_type": "code",
   "execution_count": null,
   "id": "0f95ebb9",
   "metadata": {},
   "outputs": [],
   "source": [
    "name = input(\"Please enter your name: \")\n",
    "age = int(input(\"Please enter your age: \")) #cast input to int\n",
    "type(age)\n",
    "print(\"Hello:\",name,\"you are\",age,\"years old\")"
   ]
  },
  {
   "cell_type": "markdown",
   "id": "60c3265f",
   "metadata": {},
   "source": [
    "**BMI Calculator**"
   ]
  },
  {
   "cell_type": "code",
   "execution_count": null,
   "id": "19d54da0",
   "metadata": {},
   "outputs": [],
   "source": [
    "# BMI = weight (kg) / height (m)^2\n",
    "name = input(\"Please enter your name: \")\n",
    "height = int(input(\"please enter your height in cm: \"))/100 # convert cm to m\n",
    "weight = int(input(\"please enter your weight in kg: \"))\n",
    "bmi = int(weight // (height ** 2))\n",
    "print(\"Hello:\",name,\"your BMI is:\",(bmi))"
   ]
  },
  {
   "cell_type": "markdown",
   "id": "5852474b",
   "metadata": {},
   "source": [
    "****List****"
   ]
  },
  {
   "cell_type": "markdown",
   "metadata": {},
   "source": [
    "Indexing"
   ]
  },
  {
   "cell_type": "code",
   "execution_count": null,
   "id": "d2e45050",
   "metadata": {},
   "outputs": [],
   "source": [
    "weekdays = [\"Monday\",\"Tueday\",\"Wednesday\",\"Thursday\",\"Friday\",\"Saturday\",\"Sunday\"]\n",
    "weekdays[0]"
   ]
  },
  {
   "cell_type": "code",
   "execution_count": null,
   "id": "20d15d2f",
   "metadata": {},
   "outputs": [],
   "source": [
    "weekdays = [1,\"Monday\",2.5,9,True,\"Tuesday\",3.14,False,4,\"Wednesday\"]\n",
    "weekdays[4]"
   ]
  },
  {
   "cell_type": "markdown",
   "id": "7ce302d7",
   "metadata": {},
   "source": [
    "Nested Indexing"
   ]
  },
  {
   "cell_type": "code",
   "execution_count": null,
   "id": "8c170fff",
   "metadata": {},
   "outputs": [],
   "source": [
    "nested_list = [\"Monday\",[1,2,3,4,5]]\n",
    "nested_list[1]"
   ]
  },
  {
   "cell_type": "code",
   "execution_count": null,
   "id": "1229807d",
   "metadata": {},
   "outputs": [],
   "source": [
    "nested_list = [\"Monday\",[1,2,3,4,5]]\n",
    "nested_list[1][2]"
   ]
  },
  {
   "cell_type": "markdown",
   "id": "9edd6994",
   "metadata": {},
   "source": [
    "Negative Indexing"
   ]
  },
  {
   "cell_type": "code",
   "execution_count": null,
   "id": "2218ead7",
   "metadata": {},
   "outputs": [],
   "source": [
    "weekdays = [\"Monday\", \"Tuesday\", \"Wednesday\", \"Thursday\", \"Friday\", \"Saturday\", \"Sunday\"]\n",
    "weekdays[-1]  # Accessing the last element using negative indexing"
   ]
  },
  {
   "cell_type": "code",
   "execution_count": null,
   "metadata": {},
   "outputs": [],
   "source": [
    "weekdays = [1,\"Monday\",0.45,9,True,\"Tuesday\",3.14,False,4,\"Wednesday\"]\n",
    "weekdays[-4]  # Accessing the 4th last element using negative indexing"
   ]
  },
  {
   "cell_type": "markdown",
   "id": "4b40d772",
   "metadata": {},
   "source": [
    "Slicing"
   ]
  },
  {
   "cell_type": "code",
   "execution_count": null,
   "id": "371a427a",
   "metadata": {},
   "outputs": [],
   "source": [
    "everyday = [\"Monday\",\"Tuesday\",\"Wednesday\",\"Thursday\",\"Friday\",\"Saturday\",\"Sunday\"]\n",
    "everyday[0:5]  # Slicing to get the first five elements"
   ]
  },
  {
   "cell_type": "code",
   "execution_count": null,
   "id": "72d130d4",
   "metadata": {},
   "outputs": [],
   "source": [
    "everyday = [\"Monday\",\"Tuesday\",\"Wednesday\",\"Thursday\",\"Friday\",\"Saturday\",\"Sunday\"]\n",
    "everyday[4:-2]  # Slicing to get elements from index 4 to the second last element"
   ]
  },
  {
   "cell_type": "code",
   "execution_count": null,
   "id": "5d1bdd66",
   "metadata": {},
   "outputs": [],
   "source": [
    "everyday = [\"Monday\",\"Tuesday\",\"Wednesday\",\"Thursday\",\"Friday\",\"Saturday\",\"Sunday\"]\n",
    "everyday[1:5:2] # Slicing to get every second element from index 1 to 5"
   ]
  },
  {
   "cell_type": "code",
   "execution_count": null,
   "id": "88aa8474",
   "metadata": {},
   "outputs": [],
   "source": [
    "everyday = [\"Monday\",\"Tuesday\",\"Wednesday\",\"Thursday\",\"Friday\",\"Saturday\",\"Sunday\"]\n",
    "everyday[:2]  # Slicing to get every second element from the entire list"
   ]
  },
  {
   "cell_type": "code",
   "execution_count": null,
   "id": "85600027",
   "metadata": {},
   "outputs": [],
   "source": [
    "everyday = [\"Monday\",\"Tuesday\",\"Wednesday\",\"Thursday\",\"Friday\",\"Saturday\",\"Sunday\"]\n",
    "everyday[4:]  # Slicing to get elements from index 4 to the end of the list"
   ]
  },
  {
   "cell_type": "code",
   "execution_count": null,
   "id": "f51956ed",
   "metadata": {},
   "outputs": [],
   "source": [
    "everyday = [\"Monday\",\"Tuesday\",\"Wednesday\",\"Thursday\",\"Friday\",\"Saturday\",\"Sunday\"]\n",
    "everyday[:-2]  # Slicing to get all elements except the last two"
   ]
  },
  {
   "cell_type": "markdown",
   "id": "0634e788",
   "metadata": {},
   "source": [
    "**Adding List to Element**"
   ]
  },
  {
   "cell_type": "markdown",
   "id": "541a35d4",
   "metadata": {},
   "source": [
    "Append Method"
   ]
  },
  {
   "cell_type": "code",
   "execution_count": null,
   "id": "8ab871e4",
   "metadata": {},
   "outputs": [],
   "source": [
    "num_list = [10, 20, 30, 40, 50, 60, 70, 80, 90, 100]\n",
    "num_list.append(5)  # Adding an element to the end of the list\n",
    "print(num_list)"
   ]
  },
  {
   "cell_type": "markdown",
   "id": "66d880d1",
   "metadata": {},
   "source": [
    "Extend Method "
   ]
  },
  {
   "cell_type": "code",
   "execution_count": null,
   "id": "035ffcf7",
   "metadata": {},
   "outputs": [],
   "source": [
    "\n",
    "num_list = [10, 20, 30, 40, 50, 60, 70, 80, 90, 100]\n",
    "num_list.extend([110,120,130]) # Adding multiple elements to the end of the list\n",
    "print(num_list)"
   ]
  },
  {
   "cell_type": "markdown",
   "id": "13a2139f",
   "metadata": {},
   "source": [
    "Insert Method"
   ]
  },
  {
   "cell_type": "code",
   "execution_count": null,
   "id": "2cfcaa88",
   "metadata": {},
   "outputs": [],
   "source": [
    "num_list = [10, 20, 30, 40, 80, 90, 100]\n",
    "num_list.insert(4, 50)  # Inserting an element at index 4\n",
    "print(num_list)"
   ]
  },
  {
   "cell_type": "markdown",
   "id": "ae51dbb2",
   "metadata": {},
   "source": [
    "Insert range of elements to a specific in the list"
   ]
  },
  {
   "cell_type": "code",
   "execution_count": null,
   "id": "cfff064d",
   "metadata": {},
   "outputs": [],
   "source": [
    "num_list = [10, 20, 30, 40, 80, 90, 100]\n",
    "num_list[4:3] = [50, 60, 70]  # Inserting multiple elements at index 3\n",
    "print(num_list)"
   ]
  },
  {
   "cell_type": "markdown",
   "id": "a6995239",
   "metadata": {},
   "source": [
    "**Changing Elements of the list**"
   ]
  },
  {
   "cell_type": "code",
   "execution_count": null,
   "metadata": {},
   "outputs": [],
   "source": [
    "num_list = [10, 20, 30, 40, 50]\n",
    "num_list[0] = 0 # Changing the first element\n",
    "print(num_list)"
   ]
  },
  {
   "cell_type": "code",
   "execution_count": null,
   "id": "7f12c6a2",
   "metadata": {},
   "outputs": [],
   "source": [
    "num_list = [10, 20, 30, 40, 50]\n",
    "num_list[0:3] = [1, 2, 3] # Changing the first three elements\n",
    "print(num_list)"
   ]
  },
  {
   "cell_type": "markdown",
   "id": "8540aebb",
   "metadata": {},
   "source": [
    "Concatenating Lists"
   ]
  },
  {
   "cell_type": "code",
   "execution_count": null,
   "id": "72559fd4",
   "metadata": {},
   "outputs": [],
   "source": [
    "week = [\"Monday\", \"Tuesday\", \"Wednesday\", \"Thursday\", \"Friday\"]\n",
    "weekend = [\"Saturday\", \"Sunday\"]\n",
    "week = week + weekend  # Concatenating two lists\n",
    "print(week)"
   ]
  },
  {
   "cell_type": "code",
   "execution_count": null,
   "id": "5d3428dc",
   "metadata": {},
   "outputs": [],
   "source": [
    "week = [\"Monday\", \"Tuesday\", \"Wednesday\", \"Thursday\", \"Friday\"]\n",
    "weekend = [\"Saturday\", \"Sunday\"]\n",
    "week += weekend  # Concatenating two lists using +=\n",
    "print(week)"
   ]
  },
  {
   "cell_type": "markdown",
   "id": "1fe0d3bd",
   "metadata": {},
   "source": [
    "**Repeating Lists**"
   ]
  },
  {
   "cell_type": "code",
   "execution_count": null,
   "id": "a6c37a5c",
   "metadata": {},
   "outputs": [],
   "source": [
    "num_list = [1, 2, 3, 4, 5]*3  # Repeating the list three times\n",
    "print(num_list)"
   ]
  },
  {
   "cell_type": "markdown",
   "id": "4dfc3ceb",
   "metadata": {},
   "source": [
    "**Deleting Elements from a Lists**"
   ]
  },
  {
   "cell_type": "markdown",
   "id": "79194b69",
   "metadata": {},
   "source": [
    "Remove Method"
   ]
  },
  {
   "cell_type": "code",
   "execution_count": null,
   "id": "ee216d04",
   "metadata": {},
   "outputs": [],
   "source": [
    "num_list = [10, 20, 30, 40, 50, 60, 70, 80, 90, 100]\n",
    "num_list.remove(50) # Removing an element by value\n",
    "print(num_list)"
   ]
  },
  {
   "cell_type": "markdown",
   "id": "9ae0e766",
   "metadata": {},
   "source": [
    "Pop Method"
   ]
  },
  {
   "cell_type": "code",
   "execution_count": null,
   "id": "67d84ed8",
   "metadata": {},
   "outputs": [],
   "source": [
    "num_list = [10, 20, 30, 40, 50, 60, 70, 80, 90, 100]\n",
    "num_list.pop(4)  # Removing an element by index\n",
    "print(num_list)"
   ]
  },
  {
   "cell_type": "markdown",
   "id": "c31e01c4",
   "metadata": {},
   "source": [
    "Delete Method"
   ]
  },
  {
   "cell_type": "code",
   "execution_count": null,
   "id": "3723d8d1",
   "metadata": {},
   "outputs": [],
   "source": [
    "num_list = [10, 20, 30, 40, 50, 60, 70, 80, 90, 100]\n",
    "del num_list[0:5]  # Deleting elements from index 0 to 4\n",
    "print(num_list)"
   ]
  },
  {
   "cell_type": "code",
   "execution_count": null,
   "id": "328cfda9",
   "metadata": {},
   "outputs": [],
   "source": [
    "num_list = [10, 20, 30, 40, 50, 60, 70, 80, 90, 100]\n",
    "del num_list[0] # Deleting the first element\n",
    "print(num_list)"
   ]
  },
  {
   "cell_type": "markdown",
   "id": "d54efda9",
   "metadata": {},
   "source": [
    "**Clear Elements from a Lists**"
   ]
  },
  {
   "cell_type": "code",
   "execution_count": null,
   "id": "c26c4395",
   "metadata": {},
   "outputs": [],
   "source": [
    "num_list = [10, 20, 30, 40, 50, 60, 70, 80, 90, 100]\n",
    "num_list.clear()  # Clearing all elements from the list\n",
    "print(num_list)  # This will print an empty list"
   ]
  },
  {
   "cell_type": "code",
   "execution_count": null,
   "id": "2c4ebce7",
   "metadata": {},
   "outputs": [],
   "source": [
    "num_list = [10, 20, 30, 40, 50, 60, 70, 80, 90, 100]\n",
    "num_list[:] = []  # Clearing all elements from the list using slicing\n",
    "print(num_list)  # This will print an empty list"
   ]
  },
  {
   "cell_type": "markdown",
   "id": "ae1457ff",
   "metadata": {},
   "source": [
    "**Checking Memberships in a List**"
   ]
  },
  {
   "cell_type": "code",
   "execution_count": null,
   "id": "fd8c68e5",
   "metadata": {},
   "outputs": [],
   "source": [
    "num_list = [10, 20, 30, 40, 50, 60, 70, 80, 90, 100]\n",
    "40 in num_list  # Checking if 40 is in the list"
   ]
  },
  {
   "cell_type": "code",
   "execution_count": null,
   "metadata": {},
   "outputs": [],
   "source": [
    "50 in num_list  # Checking if 50 is in the list"
   ]
  },
  {
   "cell_type": "code",
   "execution_count": null,
   "id": "83895340",
   "metadata": {},
   "outputs": [],
   "source": [
    "num_list = [10, 20, 30, 40, 50, 60, 70, 80, 90, 100]\n",
    "40 not in num_list  # Checking if 40 is not in the list"
   ]
  },
  {
   "cell_type": "code",
   "execution_count": null,
   "metadata": {},
   "outputs": [],
   "source": [
    "weekdays = [\"Monday\", \"Tuesday\", \"Wednesday\", \"Thursday\", \"Friday\"]\n",
    "\"Monday\" in weekdays  # Checking if \"Monday\" is in the list"
   ]
  },
  {
   "cell_type": "code",
   "execution_count": null,
   "id": "780c76f9",
   "metadata": {},
   "outputs": [],
   "source": [
    "weekdays = [\"Monday\", \"Tuesday\", \"Wednesday\", \"Thursday\", \"Friday\"]\n",
    "\"Monday\" not in weekdays  # Checking if \"Monday\" is not in the list"
   ]
  },
  {
   "cell_type": "markdown",
   "id": "0b382312",
   "metadata": {},
   "source": [
    "**Other Methods and Functions**"
   ]
  },
  {
   "cell_type": "code",
   "execution_count": null,
   "id": "5256a4af",
   "metadata": {},
   "outputs": [],
   "source": [
    "num_list = [10, 20, 30, 40, 50, 60, 70, 80, 90, 100]\n",
    "num_list.reverse()  # Reversing the list in place\n",
    "print(num_list)\n",
    "\n",
    "num_list.sort()  # Sorting the list in ascending order\n",
    "print(num_list)\n",
    "\n",
    "num_list.count(50)  # Counting occurrences of 50 in the list\n",
    "print(num_list)"
   ]
  },
  {
   "cell_type": "code",
   "execution_count": null,
   "id": "b8039054",
   "metadata": {},
   "outputs": [],
   "source": [
    "len(num_list)  # Getting the length of the list\n",
    "print(len(num_list))"
   ]
  },
  {
   "cell_type": "code",
   "execution_count": null,
   "id": "486a4d7e",
   "metadata": {},
   "outputs": [],
   "source": [
    "max(num_list)  # Getting the maximum value in the list"
   ]
  },
  {
   "cell_type": "code",
   "execution_count": null,
   "id": "042f44d1",
   "metadata": {},
   "outputs": [],
   "source": [
    "min(num_list)  # Getting the minimum value in the list"
   ]
  },
  {
   "cell_type": "code",
   "execution_count": null,
   "id": "bfcbde7e",
   "metadata": {},
   "outputs": [],
   "source": [
    "sum(num_list)  # Getting the sum of all elements in the list"
   ]
  },
  {
   "cell_type": "markdown",
   "id": "6f45ef9c",
   "metadata": {},
   "source": [
    "****Exploring Dictionary****"
   ]
  },
  {
   "cell_type": "markdown",
   "id": "df3461f8",
   "metadata": {},
   "source": [
    "Tuple"
   ]
  },
  {
   "cell_type": "code",
   "execution_count": null,
   "id": "d902ee3c",
   "metadata": {},
   "outputs": [],
   "source": [
    "my_tuple = (1, 2, 3, 4, 5)  # Creating a tuple\n",
    "print(my_tuple)"
   ]
  },
  {
   "cell_type": "markdown",
   "id": "aed2de90",
   "metadata": {},
   "source": [
    "**Set**"
   ]
  },
  {
   "cell_type": "markdown",
   "id": "c7f66e82",
   "metadata": {},
   "source": [
    "Example set"
   ]
  },
  {
   "cell_type": "code",
   "execution_count": null,
   "id": "e264adde",
   "metadata": {},
   "outputs": [],
   "source": [
    "int_set = {1, 2, 3, 4, 4, 5, 5}  # Creating a set with integers\n",
    "print(int_set)"
   ]
  },
  {
   "cell_type": "markdown",
   "id": "8aa96964",
   "metadata": {},
   "source": [
    "Adding Element to set"
   ]
  },
  {
   "cell_type": "code",
   "execution_count": null,
   "id": "047f2540",
   "metadata": {},
   "outputs": [],
   "source": [
    "int_set = {1, 2, 3, 4, 4, 5, 5}  # Creating a set with integers\n",
    "int_set.add(0)  # Adding an element to the set\n",
    "print(int_set)"
   ]
  },
  {
   "cell_type": "markdown",
   "id": "0c146839",
   "metadata": {},
   "source": [
    "Update Element to set"
   ]
  },
  {
   "cell_type": "code",
   "execution_count": null,
   "id": "ed40d482",
   "metadata": {},
   "outputs": [],
   "source": [
    "int_set = {1, 2, 3, 4, 4, 5, 5}  # Creating a set with integers\n",
    "int_set.update([-1, 0])  # Adding multiple elements to the set\n",
    "print(int_set)"
   ]
  },
  {
   "cell_type": "markdown",
   "id": "b4461191",
   "metadata": {},
   "source": [
    "Delete Elements from set"
   ]
  },
  {
   "cell_type": "code",
   "execution_count": null,
   "id": "0eedec41",
   "metadata": {},
   "outputs": [],
   "source": [
    "int_set = {1, 2, 3, 4, 4, 5, 5}  # Creating a set with integers\n",
    "int_set.remove(4) # Removing an element from the set\n",
    "print(int_set)"
   ]
  },
  {
   "cell_type": "markdown",
   "id": "7815ba77",
   "metadata": {},
   "source": [
    "Clear Element from Set"
   ]
  },
  {
   "cell_type": "code",
   "execution_count": null,
   "id": "4328126d",
   "metadata": {},
   "outputs": [],
   "source": [
    "int_set = {1, 2, 3, 4, 4, 5, 5}  # Creating a set with integers\n",
    "int_set.clear()  # Clearing all elements from the set\n",
    "print(int_set)  # This will print an empty set"
   ]
  },
  {
   "cell_type": "markdown",
   "id": "23448223",
   "metadata": {},
   "source": [
    "Union Operator"
   ]
  },
  {
   "cell_type": "code",
   "execution_count": null,
   "id": "4a565a6d",
   "metadata": {},
   "outputs": [],
   "source": [
    "num_set1 = {1, 2, 3, 4, 5}\n",
    "num_set2 = {4, 5, 6, 7, 8}\n",
    "num_set1.union(num_set2) # Performing union operation"
   ]
  },
  {
   "cell_type": "code",
   "execution_count": null,
   "id": "7d0b47dd",
   "metadata": {},
   "outputs": [],
   "source": [
    "num_set1 | num_set2  # Performing union operation using the | operator"
   ]
  },
  {
   "cell_type": "markdown",
   "id": "a37479b7",
   "metadata": {},
   "source": [
    "Intersection Operator"
   ]
  },
  {
   "cell_type": "code",
   "execution_count": null,
   "id": "22612719",
   "metadata": {},
   "outputs": [],
   "source": [
    "set1 = {1,2,3}\n",
    "set2 = {2,3,3,4}\n",
    "set1.intersection(set2) # Performing intersection operation"
   ]
  },
  {
   "cell_type": "code",
   "execution_count": null,
   "id": "c5823979",
   "metadata": {},
   "outputs": [],
   "source": [
    "set1 & set2 # Performing intersection operation using the & operator"
   ]
  },
  {
   "cell_type": "markdown",
   "id": "b23da8e8",
   "metadata": {},
   "source": [
    "Difference Operator"
   ]
  },
  {
   "cell_type": "code",
   "execution_count": null,
   "id": "ad6d5a44",
   "metadata": {},
   "outputs": [],
   "source": [
    "set1 = {1, 2, 3}\n",
    "set2 = {3, 4, 5}\n",
    "set1.difference(set2) # Performing difference operation"
   ]
  },
  {
   "cell_type": "code",
   "execution_count": null,
   "id": "0c22eea0",
   "metadata": {},
   "outputs": [],
   "source": [
    "set1 - set2  # Performing difference operation using the - operator"
   ]
  },
  {
   "cell_type": "markdown",
   "id": "701c449e",
   "metadata": {},
   "source": [
    "Symmetric Difference Operator"
   ]
  },
  {
   "cell_type": "code",
   "execution_count": null,
   "id": "6eed8d8b",
   "metadata": {},
   "outputs": [],
   "source": [
    "set1 = {1, 2, 3}\n",
    "set2 = {3, 4, 5}\n",
    "set1.symmetric_difference(set2) # Performing symmetric difference operation"
   ]
  },
  {
   "cell_type": "code",
   "execution_count": null,
   "id": "56cc7748",
   "metadata": {},
   "outputs": [],
   "source": [
    "set1^set2 # Performing symmetric difference operation using the ^ operator"
   ]
  },
  {
   "cell_type": "markdown",
   "id": "f20f21e6",
   "metadata": {},
   "source": [
    "In/Not In Operators"
   ]
  },
  {
   "cell_type": "code",
   "execution_count": null,
   "id": "b1dcb34a",
   "metadata": {},
   "outputs": [],
   "source": [
    "set1 = {1, 2, 3}\n",
    "set2 = {3, 4, 5}\n",
    "set1 in set2  # Checking if an element is in the set"
   ]
  },
  {
   "cell_type": "code",
   "execution_count": null,
   "id": "00ef92c5",
   "metadata": {},
   "outputs": [],
   "source": [
    "set1 = {1, 2, 3}\n",
    "set2 = {3, 4, 5}\n",
    "set1 not in set2 # Checking if an element is not in the set"
   ]
  },
  {
   "cell_type": "code",
   "execution_count": null,
   "id": "e1b972fe",
   "metadata": {},
   "outputs": [],
   "source": [
    "1 in set1  # Checking if an element is in the set"
   ]
  },
  {
   "cell_type": "code",
   "execution_count": null,
   "id": "00a119bb",
   "metadata": {},
   "outputs": [],
   "source": [
    "1 not in set1  # Checking if an element is not in the set"
   ]
  },
  {
   "cell_type": "code",
   "execution_count": null,
   "id": "e740b8a3",
   "metadata": {},
   "outputs": [],
   "source": [
    "3 in set2  # Checking if an element is in the set"
   ]
  },
  {
   "cell_type": "code",
   "execution_count": null,
   "id": "73ac8824",
   "metadata": {},
   "outputs": [],
   "source": [
    "4 not in set2 # Checking if an element is not in the set"
   ]
  },
  {
   "cell_type": "markdown",
   "id": "2d33896d",
   "metadata": {},
   "source": [
    "Access Element of a Dictionary"
   ]
  },
  {
   "cell_type": "code",
   "execution_count": null,
   "id": "86eaf0ff",
   "metadata": {},
   "outputs": [],
   "source": [
    "my_dictionary = {'name':'Purit', 'subject': 'Python', 'score': 0.95,} # Accessing an element in the dictionary\n",
    "my_dictionary['name']"
   ]
  },
  {
   "cell_type": "code",
   "execution_count": null,
   "id": "7567a7fe",
   "metadata": {},
   "outputs": [],
   "source": [
    "my_dictionary.get('name') # Accessing an element in the dictionary using get method"
   ]
  },
  {
   "cell_type": "markdown",
   "id": "10910fd3",
   "metadata": {},
   "source": [
    "**Add and Change Key-value pair to a Dictionary**"
   ]
  },
  {
   "cell_type": "markdown",
   "id": "ba57d6d6",
   "metadata": {},
   "source": [
    "Adding Key-value"
   ]
  },
  {
   "cell_type": "code",
   "execution_count": null,
   "id": "b083233a",
   "metadata": {},
   "outputs": [],
   "source": [
    "my_dictionary = {'name':'Purit', 'subject': 'Python', 'score': 0.95,'ranking': 1}\n",
    "my_dictionary['result'] = 'pass'  # Adding a new key-value pair to the dictionary\n",
    "print(my_dictionary)"
   ]
  },
  {
   "cell_type": "markdown",
   "id": "48252966",
   "metadata": {},
   "source": [
    "Overwrite Key-Value"
   ]
  },
  {
   "cell_type": "code",
   "execution_count": null,
   "id": "8c946c60",
   "metadata": {},
   "outputs": [],
   "source": [
    "my_dictionary = {'name':'Purit', 'subject': 'Python', 'score': 0.95}\n",
    "my_dictionary['score'] = 98 # Overwriting an existing key-value pair in the dictionary\n",
    "print(my_dictionary)"
   ]
  },
  {
   "cell_type": "markdown",
   "id": "e75d2a87",
   "metadata": {},
   "source": [
    "Delete Key-value Pair"
   ]
  },
  {
   "cell_type": "code",
   "execution_count": null,
   "id": "c0f297bf",
   "metadata": {},
   "outputs": [],
   "source": [
    "my_dictionary = {'name':'Purit', 'subject': 'Python', 'score': 0.95}\n",
    "my_dictionary.pop('score')  # Deleting a key-value pair from the dictionary\n",
    "print(my_dictionary)"
   ]
  },
  {
   "cell_type": "markdown",
   "id": "c34dde96",
   "metadata": {},
   "source": [
    "Clear Key-Value"
   ]
  },
  {
   "cell_type": "code",
   "execution_count": null,
   "id": "6452fa32",
   "metadata": {},
   "outputs": [],
   "source": [
    "my_dictionary = {'name':'Purit', 'subject': 'Python', 'score': 0.95}\n",
    "my_dictionary.clear() # Clearing all key-value pairs from the dictionary\n",
    "print(my_dictionary)  # This will print an empty dictionary"
   ]
  },
  {
   "cell_type": "markdown",
   "id": "eee0feb9",
   "metadata": {},
   "source": [
    "Update Dictionary from another Dictionary"
   ]
  },
  {
   "cell_type": "code",
   "execution_count": null,
   "id": "1dc4701d",
   "metadata": {},
   "outputs": [],
   "source": [
    "my_dictionary = {'name':'Purit', 'subject': 'Python', 'score': 0.95}\n",
    "my_dictionary2 = {'score': 98, 'result': 'pass'}\n",
    "my_dictionary.update(my_dictionary2)  # Updating the dictionary with another dictionary\n",
    "print(my_dictionary)"
   ]
  },
  {
   "cell_type": "markdown",
   "id": "e0d5d485",
   "metadata": {},
   "source": [
    "List Element in a Dictionary"
   ]
  },
  {
   "cell_type": "code",
   "execution_count": null,
   "id": "38bf3a20",
   "metadata": {},
   "outputs": [],
   "source": [
    "my_dictionary = {'name': 'Purit', 'subject': 'Python', 'score': 98, 'result': 'pass'}\n",
    "my_dictionary.items()  # Getting all key-value pairs in the dictionary"
   ]
  },
  {
   "cell_type": "code",
   "execution_count": null,
   "id": "a04d2aa1",
   "metadata": {},
   "outputs": [],
   "source": [
    "my_dictionary.values() # Getting all values in the dictionary"
   ]
  },
  {
   "cell_type": "code",
   "execution_count": null,
   "id": "73ece0fe",
   "metadata": {},
   "outputs": [],
   "source": [
    "my_dictionary.keys() # Getting all keys in the dictionary"
   ]
  },
  {
   "cell_type": "markdown",
   "id": "2292f21c",
   "metadata": {},
   "source": [
    "Checking Membership in a Dictionary"
   ]
  },
  {
   "cell_type": "code",
   "execution_count": null,
   "id": "897edd97",
   "metadata": {},
   "outputs": [],
   "source": [
    "my_dictionary = {'name':'Purit', 'subject': 'Python', 'score': 0.95}\n",
    "'name'in my_dictionary  # Checking if a key is in the dictionary"
   ]
  },
  {
   "cell_type": "code",
   "execution_count": null,
   "id": "18f326ec",
   "metadata": {},
   "outputs": [],
   "source": [
    "'score' not in my_dictionary  # Checking if a key is not in the dictionary"
   ]
  },
  {
   "cell_type": "markdown",
   "id": "3ab63c30",
   "metadata": {},
   "source": [
    "Others Function in Dictionary"
   ]
  },
  {
   "cell_type": "code",
   "execution_count": null,
   "id": "d512a391",
   "metadata": {},
   "outputs": [],
   "source": [
    "my_dictionary = {'name':'Purit', 'subject': 'Python', 'score': 0.95}\n",
    "len(my_dictionary)  # Getting the number of key-value pairs in the dictionary"
   ]
  },
  {
   "cell_type": "code",
   "execution_count": null,
   "id": "66c24ccd",
   "metadata": {},
   "outputs": [],
   "source": [
    "pair_list = [(\"name\", \"John\"), (\"subject\", \"Math\"), (\"score\", 95), (\"ranking\", 1)]\n",
    "new_dict = dict(pair_list)\n",
    "print(new_dict)"
   ]
  },
  {
   "cell_type": "code",
   "execution_count": null,
   "id": "094a2bf1",
   "metadata": {},
   "outputs": [],
   "source": [
    "type(new_dict)  # Checking the type of the new dictionary"
   ]
  },
  {
   "cell_type": "markdown",
   "id": "1d76586b",
   "metadata": {},
   "source": [
    "## Conditional Statements and Loop"
   ]
  },
  {
   "cell_type": "markdown",
   "id": "4929c06d",
   "metadata": {},
   "source": [
    "**If-Elif-Else Statement**"
   ]
  },
  {
   "cell_type": "markdown",
   "id": "ecdf0e29",
   "metadata": {},
   "source": [
    "If"
   ]
  },
  {
   "cell_type": "code",
   "execution_count": 4,
   "id": "b15a32c3",
   "metadata": {},
   "outputs": [
    {
     "name": "stdout",
     "output_type": "stream",
     "text": [
      "You can get the prize when you guess the number right!\n"
     ]
    }
   ],
   "source": [
    "num_list = [10 , 20, 30, 40, 50]\n",
    "guess = eval(input(\"Please guess a number on the list: \"))\n",
    "if guess in num_list:\n",
    "    print(\"You guessed it right!\")\n",
    "print(\"You can get the prize when you guess the number right!\")"
   ]
  },
  {
   "cell_type": "markdown",
   "id": "f63047f6",
   "metadata": {},
   "source": [
    "If/Else"
   ]
  },
  {
   "cell_type": "code",
   "execution_count": 7,
   "id": "34212044",
   "metadata": {},
   "outputs": [
    {
     "name": "stdout",
     "output_type": "stream",
     "text": [
      "You guessed it right!\n",
      "You can get the prize when you guess the number right!\n"
     ]
    }
   ],
   "source": [
    "num_list = [10 , 20, 30, 40, 50]\n",
    "guess = eval(input(\"Please guess a number on the list: \"))\n",
    "if guess in num_list:\n",
    "    print(\"You guessed it right!\")\n",
    "else:\n",
    "    print(\"You guessed it wrong!\")\n",
    "print(\"You can get the prize when you guess the number right!\")"
   ]
  },
  {
   "cell_type": "markdown",
   "id": "eb4093a9",
   "metadata": {},
   "source": [
    "Elif"
   ]
  },
  {
   "cell_type": "code",
   "execution_count": 9,
   "id": "c9f7d75d",
   "metadata": {},
   "outputs": [
    {
     "name": "stdout",
     "output_type": "stream",
     "text": [
      "Sorry, you guessed it wrong!\n",
      "Thank you for your participation!\n"
     ]
    }
   ],
   "source": [
    "firstPrize_num_list = [10 , 20, 30, 40, 50]\n",
    "secondPrize_num_list = [60, 70, 80, 90, 100]\n",
    "guess = eval(input(\"Please guess a number on the first prize list: \"))\n",
    "if guess in firstPrize_num_list:\n",
    "    print(\"You win the first prize!\")\n",
    "elif guess in secondPrize_num_list:\n",
    "    print(\"You win the second prize!\")\n",
    "else:\n",
    "    print(\"Sorry, you guessed it wrong!\")\n",
    "print(\"Thank you for your participation!\")"
   ]
  }
 ],
 "metadata": {
  "kernelspec": {
   "display_name": "Python 3",
   "language": "python",
   "name": "python3"
  },
  "language_info": {
   "codemirror_mode": {
    "name": "ipython",
    "version": 3
   },
   "file_extension": ".py",
   "mimetype": "text/x-python",
   "name": "python",
   "nbconvert_exporter": "python",
   "pygments_lexer": "ipython3",
   "version": "3.12.1"
  }
 },
 "nbformat": 4,
 "nbformat_minor": 5
}
