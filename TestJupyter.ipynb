{
 "cells": [
  {
   "cell_type": "markdown",
   "id": "8ecee3de",
   "metadata": {},
   "source": [
    "**Input Method**"
   ]
  },
  {
   "cell_type": "code",
   "execution_count": null,
   "id": "0f95ebb9",
   "metadata": {},
   "outputs": [],
   "source": [
    "name = input(\"Please enter your name: \")\n",
    "age = int(input(\"Please enter your age: \")) #cast input to int\n",
    "type(age)\n",
    "print(\"Hello:\",name,\"you are\",age,\"years old\")"
   ]
  },
  {
   "cell_type": "markdown",
   "id": "60c3265f",
   "metadata": {},
   "source": [
    "**BMI Calculator**"
   ]
  },
  {
   "cell_type": "code",
   "execution_count": 6,
   "id": "19d54da0",
   "metadata": {},
   "outputs": [
    {
     "name": "stdout",
     "output_type": "stream",
     "text": [
      "Hello: Purit your BMI is: 29\n"
     ]
    }
   ],
   "source": [
    "# BMI = weight (kg) / height (m)^2\n",
    "name = input(\"Please enter your name: \")\n",
    "height = int(input(\"please enter your height in cm: \"))/100 # convert cm to m\n",
    "weight = int(input(\"please enter your weight in kg: \"))\n",
    "bmi = int(weight // (height ** 2))\n",
    "print(\"Hello:\",name,\"your BMI is:\",(bmi))"
   ]
  },
  {
   "cell_type": "markdown",
   "id": "5852474b",
   "metadata": {},
   "source": [
    "**List**"
   ]
  },
  {
   "cell_type": "markdown",
   "metadata": {},
   "source": [
    "Indexing"
   ]
  },
  {
   "cell_type": "code",
   "execution_count": 2,
   "id": "d2e45050",
   "metadata": {},
   "outputs": [
    {
     "data": {
      "text/plain": [
       "'Monday'"
      ]
     },
     "execution_count": 2,
     "metadata": {},
     "output_type": "execute_result"
    }
   ],
   "source": [
    "weekdays = [\"Monday\",\"Tueday\",\"Wednesday\",\"Thursday\",\"Friday\",\"Saturday\",\"Sunday\"]\n",
    "weekdays[0]"
   ]
  },
  {
   "cell_type": "code",
   "execution_count": 4,
   "id": "20d15d2f",
   "metadata": {},
   "outputs": [
    {
     "data": {
      "text/plain": [
       "True"
      ]
     },
     "execution_count": 4,
     "metadata": {},
     "output_type": "execute_result"
    }
   ],
   "source": [
    "weekdays = [1,\"Monday\",2.5,9,True,\"Tuesday\",3.14,False,4,\"Wednesday\"]\n",
    "weekdays[4]"
   ]
  },
  {
   "cell_type": "markdown",
   "id": "7ce302d7",
   "metadata": {},
   "source": [
    "Nested Indexing"
   ]
  },
  {
   "cell_type": "code",
   "execution_count": null,
   "id": "8c170fff",
   "metadata": {},
   "outputs": [],
   "source": []
  }
 ],
 "metadata": {
  "kernelspec": {
   "display_name": "Python 3",
   "language": "python",
   "name": "python3"
  },
  "language_info": {
   "codemirror_mode": {
    "name": "ipython",
    "version": 3
   },
   "file_extension": ".py",
   "mimetype": "text/x-python",
   "name": "python",
   "nbconvert_exporter": "python",
   "pygments_lexer": "ipython3",
   "version": "3.12.1"
  }
 },
 "nbformat": 4,
 "nbformat_minor": 5
}
