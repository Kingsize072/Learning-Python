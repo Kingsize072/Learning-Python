{
 "cells": [
  {
   "cell_type": "markdown",
   "id": "8ecee3de",
   "metadata": {},
   "source": [
    "**Input Method**"
   ]
  },
  {
   "cell_type": "code",
   "execution_count": null,
   "id": "0f95ebb9",
   "metadata": {},
   "outputs": [],
   "source": [
    "name = input(\"Please enter your name: \")\n",
    "age = int(input(\"Please enter your age: \")) #cast input to int\n",
    "type(age)\n",
    "print(\"Hello:\",name,\"you are\",age,\"years old\")"
   ]
  },
  {
   "cell_type": "markdown",
   "id": "60c3265f",
   "metadata": {},
   "source": [
    "**BMI Calculator**"
   ]
  },
  {
   "cell_type": "code",
   "execution_count": null,
   "id": "19d54da0",
   "metadata": {},
   "outputs": [],
   "source": [
    "# BMI = weight (kg) / height (m)^2\n",
    "name = input(\"Please enter your name: \")\n",
    "height = int(input(\"please enter your height in cm: \"))/100 # convert cm to m\n",
    "weight = int(input(\"please enter your weight in kg: \"))\n",
    "bmi = int(weight // (height ** 2))\n",
    "print(\"Hello:\",name,\"your BMI is:\",(bmi))"
   ]
  },
  {
   "cell_type": "markdown",
   "id": "5852474b",
   "metadata": {},
   "source": [
    "****List****"
   ]
  },
  {
   "cell_type": "markdown",
   "metadata": {},
   "source": [
    "Indexing"
   ]
  },
  {
   "cell_type": "code",
   "execution_count": null,
   "id": "d2e45050",
   "metadata": {},
   "outputs": [],
   "source": [
    "weekdays = [\"Monday\",\"Tueday\",\"Wednesday\",\"Thursday\",\"Friday\",\"Saturday\",\"Sunday\"]\n",
    "weekdays[0]"
   ]
  },
  {
   "cell_type": "code",
   "execution_count": null,
   "id": "20d15d2f",
   "metadata": {},
   "outputs": [],
   "source": [
    "weekdays = [1,\"Monday\",2.5,9,True,\"Tuesday\",3.14,False,4,\"Wednesday\"]\n",
    "weekdays[4]"
   ]
  },
  {
   "cell_type": "markdown",
   "id": "7ce302d7",
   "metadata": {},
   "source": [
    "Nested Indexing"
   ]
  },
  {
   "cell_type": "code",
   "execution_count": null,
   "id": "8c170fff",
   "metadata": {},
   "outputs": [],
   "source": [
    "nested_list = [\"Monday\",[1,2,3,4,5]]\n",
    "nested_list[1]"
   ]
  },
  {
   "cell_type": "code",
   "execution_count": null,
   "id": "1229807d",
   "metadata": {},
   "outputs": [],
   "source": [
    "nested_list = [\"Monday\",[1,2,3,4,5]]\n",
    "nested_list[1][2]"
   ]
  },
  {
   "cell_type": "markdown",
   "id": "9edd6994",
   "metadata": {},
   "source": [
    "Negative Indexing"
   ]
  },
  {
   "cell_type": "code",
   "execution_count": null,
   "id": "2218ead7",
   "metadata": {},
   "outputs": [],
   "source": [
    "weekdays = [\"Monday\", \"Tuesday\", \"Wednesday\", \"Thursday\", \"Friday\", \"Saturday\", \"Sunday\"]\n",
    "weekdays[-1]  # Accessing the last element using negative indexing"
   ]
  },
  {
   "cell_type": "code",
   "execution_count": null,
   "metadata": {},
   "outputs": [],
   "source": [
    "weekdays = [1,\"Monday\",0.45,9,True,\"Tuesday\",3.14,False,4,\"Wednesday\"]\n",
    "weekdays[-4]  # Accessing the 4th last element using negative indexing"
   ]
  },
  {
   "cell_type": "markdown",
   "id": "4b40d772",
   "metadata": {},
   "source": [
    "Slicing"
   ]
  },
  {
   "cell_type": "code",
   "execution_count": null,
   "id": "371a427a",
   "metadata": {},
   "outputs": [],
   "source": [
    "everyday = [\"Monday\",\"Tuesday\",\"Wednesday\",\"Thursday\",\"Friday\",\"Saturday\",\"Sunday\"]\n",
    "everyday[0:5]  # Slicing to get the first five elements"
   ]
  },
  {
   "cell_type": "code",
   "execution_count": null,
   "id": "72d130d4",
   "metadata": {},
   "outputs": [],
   "source": [
    "everyday = [\"Monday\",\"Tuesday\",\"Wednesday\",\"Thursday\",\"Friday\",\"Saturday\",\"Sunday\"]\n",
    "everyday[4:-2]  # Slicing to get elements from index 4 to the second last element"
   ]
  },
  {
   "cell_type": "code",
   "execution_count": null,
   "id": "5d1bdd66",
   "metadata": {},
   "outputs": [],
   "source": [
    "everyday = [\"Monday\",\"Tuesday\",\"Wednesday\",\"Thursday\",\"Friday\",\"Saturday\",\"Sunday\"]\n",
    "everyday[1:5:2] # Slicing to get every second element from index 1 to 5"
   ]
  },
  {
   "cell_type": "code",
   "execution_count": null,
   "id": "88aa8474",
   "metadata": {},
   "outputs": [],
   "source": [
    "everyday = [\"Monday\",\"Tuesday\",\"Wednesday\",\"Thursday\",\"Friday\",\"Saturday\",\"Sunday\"]\n",
    "everyday[:2]  # Slicing to get every second element from the entire list"
   ]
  },
  {
   "cell_type": "code",
   "execution_count": null,
   "id": "85600027",
   "metadata": {},
   "outputs": [],
   "source": [
    "everyday = [\"Monday\",\"Tuesday\",\"Wednesday\",\"Thursday\",\"Friday\",\"Saturday\",\"Sunday\"]\n",
    "everyday[4:]  # Slicing to get elements from index 4 to the end of the list"
   ]
  },
  {
   "cell_type": "code",
   "execution_count": null,
   "id": "f51956ed",
   "metadata": {},
   "outputs": [],
   "source": [
    "everyday = [\"Monday\",\"Tuesday\",\"Wednesday\",\"Thursday\",\"Friday\",\"Saturday\",\"Sunday\"]\n",
    "everyday[:-2]  # Slicing to get all elements except the last two"
   ]
  },
  {
   "cell_type": "markdown",
   "id": "0634e788",
   "metadata": {},
   "source": [
    "**Adding List to Element**"
   ]
  },
  {
   "cell_type": "markdown",
   "id": "541a35d4",
   "metadata": {},
   "source": [
    "Append Method"
   ]
  },
  {
   "cell_type": "code",
   "execution_count": null,
   "id": "8ab871e4",
   "metadata": {},
   "outputs": [],
   "source": [
    "num_list = [10, 20, 30, 40, 50, 60, 70, 80, 90, 100]\n",
    "num_list.append(5)  # Adding an element to the end of the list\n",
    "print(num_list)"
   ]
  },
  {
   "cell_type": "markdown",
   "id": "66d880d1",
   "metadata": {},
   "source": [
    "Extend Method "
   ]
  },
  {
   "cell_type": "code",
   "execution_count": null,
   "id": "035ffcf7",
   "metadata": {},
   "outputs": [],
   "source": [
    "\n",
    "num_list = [10, 20, 30, 40, 50, 60, 70, 80, 90, 100]\n",
    "num_list.extend([110,120,130]) # Adding multiple elements to the end of the list\n",
    "print(num_list)"
   ]
  },
  {
   "cell_type": "markdown",
   "id": "13a2139f",
   "metadata": {},
   "source": [
    "Insert Method"
   ]
  },
  {
   "cell_type": "code",
   "execution_count": null,
   "id": "2cfcaa88",
   "metadata": {},
   "outputs": [],
   "source": [
    "num_list = [10, 20, 30, 40, 80, 90, 100]\n",
    "num_list.insert(4, 50)  # Inserting an element at index 4\n",
    "print(num_list)"
   ]
  },
  {
   "cell_type": "markdown",
   "id": "ae51dbb2",
   "metadata": {},
   "source": [
    "Insert range of elements to a specific in the list"
   ]
  },
  {
   "cell_type": "code",
   "execution_count": null,
   "id": "cfff064d",
   "metadata": {},
   "outputs": [],
   "source": [
    "num_list = [10, 20, 30, 40, 80, 90, 100]\n",
    "num_list[4:3] = [50, 60, 70]  # Inserting multiple elements at index 3\n",
    "print(num_list)"
   ]
  },
  {
   "cell_type": "markdown",
   "id": "a6995239",
   "metadata": {},
   "source": [
    "Changing Elements of the list"
   ]
  },
  {
   "cell_type": "code",
   "execution_count": null,
   "metadata": {},
   "outputs": [],
   "source": [
    "num_list = [10, 20, 30, 40, 50]\n",
    "num_list[0] = 0 # Changing the first element\n",
    "print(num_list)"
   ]
  },
  {
   "cell_type": "code",
   "execution_count": null,
   "id": "7f12c6a2",
   "metadata": {},
   "outputs": [],
   "source": [
    "num_list = [10, 20, 30, 40, 50]\n",
    "num_list[0:3] = [1, 2, 3] # Changing the first three elements\n",
    "print(num_list)"
   ]
  },
  {
   "cell_type": "markdown",
   "id": "8540aebb",
   "metadata": {},
   "source": [
    "Concatenating Lists"
   ]
  },
  {
   "cell_type": "code",
   "execution_count": null,
   "id": "72559fd4",
   "metadata": {},
   "outputs": [],
   "source": [
    "week = [\"Monday\", \"Tuesday\", \"Wednesday\", \"Thursday\", \"Friday\"]\n",
    "weekend = [\"Saturday\", \"Sunday\"]\n",
    "week = week + weekend  # Concatenating two lists\n",
    "print(week)"
   ]
  },
  {
   "cell_type": "code",
   "execution_count": null,
   "id": "5d3428dc",
   "metadata": {},
   "outputs": [],
   "source": [
    "week = [\"Monday\", \"Tuesday\", \"Wednesday\", \"Thursday\", \"Friday\"]\n",
    "weekend = [\"Saturday\", \"Sunday\"]\n",
    "week += weekend  # Concatenating two lists using +=\n",
    "print(week)"
   ]
  },
  {
   "cell_type": "markdown",
   "id": "1fe0d3bd",
   "metadata": {},
   "source": [
    "**Repeating Lists**"
   ]
  },
  {
   "cell_type": "code",
   "execution_count": null,
   "id": "a6c37a5c",
   "metadata": {},
   "outputs": [],
   "source": [
    "num_list = [1, 2, 3, 4, 5]*3  # Repeating the list three times\n",
    "print(num_list)"
   ]
  },
  {
   "cell_type": "markdown",
   "id": "4dfc3ceb",
   "metadata": {},
   "source": [
    "**Deleting Elements from a Lists**"
   ]
  },
  {
   "cell_type": "markdown",
   "id": "79194b69",
   "metadata": {},
   "source": [
    "Remove Method"
   ]
  },
  {
   "cell_type": "code",
   "execution_count": null,
   "id": "ee216d04",
   "metadata": {},
   "outputs": [],
   "source": [
    "num_list = [10, 20, 30, 40, 50, 60, 70, 80, 90, 100]\n",
    "num_list.remove(50) # Removing an element by value\n",
    "print(num_list)"
   ]
  },
  {
   "cell_type": "markdown",
   "id": "9ae0e766",
   "metadata": {},
   "source": [
    "Pop Method"
   ]
  },
  {
   "cell_type": "code",
   "execution_count": null,
   "id": "67d84ed8",
   "metadata": {},
   "outputs": [],
   "source": [
    "num_list = [10, 20, 30, 40, 50, 60, 70, 80, 90, 100]\n",
    "num_list.pop(4)  # Removing an element by index\n",
    "print(num_list)"
   ]
  },
  {
   "cell_type": "markdown",
   "id": "c31e01c4",
   "metadata": {},
   "source": [
    "Delete Method"
   ]
  },
  {
   "cell_type": "code",
   "execution_count": null,
   "id": "3723d8d1",
   "metadata": {},
   "outputs": [],
   "source": [
    "num_list = [10, 20, 30, 40, 50, 60, 70, 80, 90, 100]\n",
    "del num_list[0:5]  # Deleting elements from index 0 to 4\n",
    "print(num_list)"
   ]
  },
  {
   "cell_type": "code",
   "execution_count": null,
   "id": "328cfda9",
   "metadata": {},
   "outputs": [],
   "source": [
    "num_list = [10, 20, 30, 40, 50, 60, 70, 80, 90, 100]\n",
    "del num_list[0] # Deleting the first element\n",
    "print(num_list)"
   ]
  },
  {
   "cell_type": "markdown",
   "id": "d54efda9",
   "metadata": {},
   "source": [
    "**Clear Elements from a Lists**"
   ]
  },
  {
   "cell_type": "code",
   "execution_count": null,
   "id": "c26c4395",
   "metadata": {},
   "outputs": [],
   "source": [
    "num_list = [10, 20, 30, 40, 50, 60, 70, 80, 90, 100]\n",
    "num_list.clear()  # Clearing all elements from the list\n",
    "print(num_list)  # This will print an empty list"
   ]
  },
  {
   "cell_type": "code",
   "execution_count": null,
   "id": "2c4ebce7",
   "metadata": {},
   "outputs": [],
   "source": [
    "num_list = [10, 20, 30, 40, 50, 60, 70, 80, 90, 100]\n",
    "num_list[:] = []  # Clearing all elements from the list using slicing\n",
    "print(num_list)  # This will print an empty list"
   ]
  },
  {
   "cell_type": "markdown",
   "id": "ae1457ff",
   "metadata": {},
   "source": [
    "**Checking Memberships in a List**"
   ]
  },
  {
   "cell_type": "code",
   "execution_count": null,
   "id": "fd8c68e5",
   "metadata": {},
   "outputs": [],
   "source": [
    "num_list = [10, 20, 30, 40, 50, 60, 70, 80, 90, 100]\n",
    "40 in num_list  # Checking if 40 is in the list"
   ]
  },
  {
   "cell_type": "code",
   "execution_count": null,
   "id": "83895340",
   "metadata": {},
   "outputs": [],
   "source": [
    "num_list = [10, 20, 30, 40, 50, 60, 70, 80, 90, 100]\n",
    "40 not in num_list  # Checking if 40 is not in the list"
   ]
  },
  {
   "cell_type": "code",
   "execution_count": null,
   "metadata": {},
   "outputs": [],
   "source": [
    "weekdays = [\"Monday\", \"Tuesday\", \"Wednesday\", \"Thursday\", \"Friday\"]\n",
    "\"Monday\" in weekdays  # Checking if \"Monday\" is in the list"
   ]
  },
  {
   "cell_type": "code",
   "execution_count": null,
   "id": "780c76f9",
   "metadata": {},
   "outputs": [],
   "source": [
    "weekdays = [\"Monday\", \"Tuesday\", \"Wednesday\", \"Thursday\", \"Friday\"]\n",
    "\"Monday\" not in weekdays  # Checking if \"Monday\" is not in the list"
   ]
  }
 ],
 "metadata": {
  "kernelspec": {
   "display_name": "Python 3",
   "language": "python",
   "name": "python3"
  },
  "language_info": {
   "codemirror_mode": {
    "name": "ipython",
    "version": 3
   },
   "file_extension": ".py",
   "mimetype": "text/x-python",
   "name": "python",
   "nbconvert_exporter": "python",
   "pygments_lexer": "ipython3",
   "version": "3.12.1"
  }
 },
 "nbformat": 4,
 "nbformat_minor": 5
}
