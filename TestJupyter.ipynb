{
 "cells": [
  {
   "cell_type": "markdown",
   "id": "8ecee3de",
   "metadata": {},
   "source": [
    "**Input Method**"
   ]
  },
  {
   "cell_type": "code",
   "execution_count": 8,
   "id": "0f95ebb9",
   "metadata": {},
   "outputs": [
    {
     "name": "stdout",
     "output_type": "stream",
     "text": [
      "Hello: Purit you are 33 years old\n"
     ]
    }
   ],
   "source": [
    "name = input(\"Please enter your name: \")\n",
    "age = int(input(\"Please enter your age: \")) #cast input to int\n",
    "type(age)\n",
    "print(\"Hello:\",name,\"you are\",age,\"years old\")"
   ]
  },
  {
   "cell_type": "markdown",
   "id": "60c3265f",
   "metadata": {},
   "source": [
    "**BMI Calculator**"
   ]
  },
  {
   "cell_type": "code",
   "execution_count": 9,
   "id": "19d54da0",
   "metadata": {},
   "outputs": [
    {
     "name": "stdout",
     "output_type": "stream",
     "text": [
      "Hello: Purit your BMI is: 29\n"
     ]
    }
   ],
   "source": [
    "# BMI = weight (kg) / height (m)^2\n",
    "name = input(\"Please enter your name: \")\n",
    "height = int(input(\"please enter your height in cm: \"))/100 # convert cm to m\n",
    "weight = int(input(\"please enter your weight in kg: \"))\n",
    "bmi = int(weight // (height ** 2))\n",
    "print(\"Hello:\",name,\"your BMI is:\",(bmi))"
   ]
  },
  {
   "cell_type": "markdown",
   "id": "5852474b",
   "metadata": {},
   "source": [
    "****List****"
   ]
  },
  {
   "cell_type": "markdown",
   "metadata": {},
   "source": [
    "Indexing"
   ]
  },
  {
   "cell_type": "code",
   "execution_count": 10,
   "id": "d2e45050",
   "metadata": {},
   "outputs": [
    {
     "data": {
      "text/plain": [
       "'Monday'"
      ]
     },
     "execution_count": 10,
     "metadata": {},
     "output_type": "execute_result"
    }
   ],
   "source": [
    "weekdays = [\"Monday\",\"Tueday\",\"Wednesday\",\"Thursday\",\"Friday\",\"Saturday\",\"Sunday\"]\n",
    "weekdays[0]"
   ]
  },
  {
   "cell_type": "code",
   "execution_count": 11,
   "id": "20d15d2f",
   "metadata": {},
   "outputs": [
    {
     "data": {
      "text/plain": [
       "True"
      ]
     },
     "execution_count": 11,
     "metadata": {},
     "output_type": "execute_result"
    }
   ],
   "source": [
    "weekdays = [1,\"Monday\",2.5,9,True,\"Tuesday\",3.14,False,4,\"Wednesday\"]\n",
    "weekdays[4]"
   ]
  },
  {
   "cell_type": "markdown",
   "id": "7ce302d7",
   "metadata": {},
   "source": [
    "Nested Indexing"
   ]
  },
  {
   "cell_type": "code",
   "execution_count": 12,
   "id": "8c170fff",
   "metadata": {},
   "outputs": [
    {
     "data": {
      "text/plain": [
       "[1, 2, 3, 4, 5]"
      ]
     },
     "execution_count": 12,
     "metadata": {},
     "output_type": "execute_result"
    }
   ],
   "source": [
    "nested_list = [\"Monday\",[1,2,3,4,5]]\n",
    "nested_list[1]"
   ]
  },
  {
   "cell_type": "code",
   "execution_count": 13,
   "id": "1229807d",
   "metadata": {},
   "outputs": [
    {
     "data": {
      "text/plain": [
       "3"
      ]
     },
     "execution_count": 13,
     "metadata": {},
     "output_type": "execute_result"
    }
   ],
   "source": [
    "nested_list = [\"Monday\",[1,2,3,4,5]]\n",
    "nested_list[1][2]"
   ]
  },
  {
   "cell_type": "markdown",
   "id": "9edd6994",
   "metadata": {},
   "source": [
    "Negative Indexing"
   ]
  },
  {
   "cell_type": "code",
   "execution_count": 14,
   "id": "2218ead7",
   "metadata": {},
   "outputs": [
    {
     "data": {
      "text/plain": [
       "'Sunday'"
      ]
     },
     "execution_count": 14,
     "metadata": {},
     "output_type": "execute_result"
    }
   ],
   "source": [
    "weekdays = [\"Monday\", \"Tuesday\", \"Wednesday\", \"Thursday\", \"Friday\", \"Saturday\", \"Sunday\"]\n",
    "weekdays[-1]  # Accessing the last element using negative indexing"
   ]
  },
  {
   "cell_type": "code",
   "execution_count": 15,
   "metadata": {},
   "outputs": [
    {
     "data": {
      "text/plain": [
       "3.14"
      ]
     },
     "execution_count": 15,
     "metadata": {},
     "output_type": "execute_result"
    }
   ],
   "source": [
    "weekdays = [1,\"Monday\",0.45,9,True,\"Tuesday\",3.14,False,4,\"Wednesday\"]\n",
    "weekdays[-4]  # Accessing the 4th last element using negative indexing"
   ]
  },
  {
   "cell_type": "markdown",
   "id": "4b40d772",
   "metadata": {},
   "source": [
    "Slicing"
   ]
  },
  {
   "cell_type": "code",
   "execution_count": 16,
   "id": "371a427a",
   "metadata": {},
   "outputs": [
    {
     "data": {
      "text/plain": [
       "['Monday', 'Tuesday', 'Wednesday', 'Thursday', 'Friday']"
      ]
     },
     "execution_count": 16,
     "metadata": {},
     "output_type": "execute_result"
    }
   ],
   "source": [
    "everyday = [\"Monday\",\"Tuesday\",\"Wednesday\",\"Thursday\",\"Friday\",\"Saturday\",\"Sunday\"]\n",
    "everyday[0:5]  # Slicing to get the first five elements"
   ]
  },
  {
   "cell_type": "code",
   "execution_count": 17,
   "id": "72d130d4",
   "metadata": {},
   "outputs": [
    {
     "data": {
      "text/plain": [
       "['Friday']"
      ]
     },
     "execution_count": 17,
     "metadata": {},
     "output_type": "execute_result"
    }
   ],
   "source": [
    "everyday = [\"Monday\",\"Tuesday\",\"Wednesday\",\"Thursday\",\"Friday\",\"Saturday\",\"Sunday\"]\n",
    "everyday[4:-2]  # Slicing to get elements from index 4 to the second last element"
   ]
  },
  {
   "cell_type": "code",
   "execution_count": 18,
   "id": "5d1bdd66",
   "metadata": {},
   "outputs": [
    {
     "data": {
      "text/plain": [
       "['Tuesday', 'Thursday']"
      ]
     },
     "execution_count": 18,
     "metadata": {},
     "output_type": "execute_result"
    }
   ],
   "source": [
    "everyday = [\"Monday\",\"Tuesday\",\"Wednesday\",\"Thursday\",\"Friday\",\"Saturday\",\"Sunday\"]\n",
    "everyday[1:5:2] # Slicing to get every second element from index 1 to 5"
   ]
  },
  {
   "cell_type": "code",
   "execution_count": 19,
   "id": "88aa8474",
   "metadata": {},
   "outputs": [
    {
     "data": {
      "text/plain": [
       "['Monday', 'Tuesday']"
      ]
     },
     "execution_count": 19,
     "metadata": {},
     "output_type": "execute_result"
    }
   ],
   "source": [
    "everyday = [\"Monday\",\"Tuesday\",\"Wednesday\",\"Thursday\",\"Friday\",\"Saturday\",\"Sunday\"]\n",
    "everyday[:2]  # Slicing to get every second element from the entire list"
   ]
  },
  {
   "cell_type": "code",
   "execution_count": 20,
   "id": "85600027",
   "metadata": {},
   "outputs": [
    {
     "data": {
      "text/plain": [
       "['Friday', 'Saturday', 'Sunday']"
      ]
     },
     "execution_count": 20,
     "metadata": {},
     "output_type": "execute_result"
    }
   ],
   "source": [
    "everyday = [\"Monday\",\"Tuesday\",\"Wednesday\",\"Thursday\",\"Friday\",\"Saturday\",\"Sunday\"]\n",
    "everyday[4:]  # Slicing to get elements from index 4 to the end of the list"
   ]
  },
  {
   "cell_type": "code",
   "execution_count": 21,
   "id": "f51956ed",
   "metadata": {},
   "outputs": [
    {
     "data": {
      "text/plain": [
       "['Monday', 'Tuesday', 'Wednesday', 'Thursday', 'Friday']"
      ]
     },
     "execution_count": 21,
     "metadata": {},
     "output_type": "execute_result"
    }
   ],
   "source": [
    "everyday = [\"Monday\",\"Tuesday\",\"Wednesday\",\"Thursday\",\"Friday\",\"Saturday\",\"Sunday\"]\n",
    "everyday[:-2]  # Slicing to get all elements except the last two"
   ]
  },
  {
   "cell_type": "markdown",
   "id": "0634e788",
   "metadata": {},
   "source": [
    "**Adding List to Element**"
   ]
  },
  {
   "cell_type": "markdown",
   "id": "541a35d4",
   "metadata": {},
   "source": [
    "Append Method"
   ]
  },
  {
   "cell_type": "code",
   "execution_count": 22,
   "id": "8ab871e4",
   "metadata": {},
   "outputs": [
    {
     "name": "stdout",
     "output_type": "stream",
     "text": [
      "[10, 20, 30, 40, 50, 60, 70, 80, 90, 100, 5]\n"
     ]
    }
   ],
   "source": [
    "num_list = [10, 20, 30, 40, 50, 60, 70, 80, 90, 100]\n",
    "num_list.append(5)  # Adding an element to the end of the list\n",
    "print(num_list)"
   ]
  },
  {
   "cell_type": "markdown",
   "id": "66d880d1",
   "metadata": {},
   "source": [
    "Extend Method "
   ]
  },
  {
   "cell_type": "code",
   "execution_count": 23,
   "id": "035ffcf7",
   "metadata": {},
   "outputs": [
    {
     "name": "stdout",
     "output_type": "stream",
     "text": [
      "[10, 20, 30, 40, 50, 60, 70, 80, 90, 100, 110, 120, 130]\n"
     ]
    }
   ],
   "source": [
    "\n",
    "num_list = [10, 20, 30, 40, 50, 60, 70, 80, 90, 100]\n",
    "num_list.extend([110,120,130]) # Adding multiple elements to the end of the list\n",
    "print(num_list)"
   ]
  },
  {
   "cell_type": "markdown",
   "id": "13a2139f",
   "metadata": {},
   "source": [
    "Insert Method"
   ]
  },
  {
   "cell_type": "code",
   "execution_count": null,
   "id": "2cfcaa88",
   "metadata": {},
   "outputs": [
    {
     "ename": "TypeError",
     "evalue": "insert expected 2 arguments, got 1",
     "output_type": "error",
     "traceback": [
      "\u001b[31m---------------------------------------------------------------------------\u001b[39m",
      "\u001b[31mTypeError\u001b[39m                                 Traceback (most recent call last)",
      "\u001b[36mCell\u001b[39m\u001b[36m \u001b[39m\u001b[32mIn[24]\u001b[39m\u001b[32m, line 2\u001b[39m\n\u001b[32m      1\u001b[39m num_list = [\u001b[32m10\u001b[39m, \u001b[32m20\u001b[39m, \u001b[32m30\u001b[39m, \u001b[32m40\u001b[39m, \u001b[32m80\u001b[39m, \u001b[32m90\u001b[39m, \u001b[32m100\u001b[39m]\n\u001b[32m----> \u001b[39m\u001b[32m2\u001b[39m \u001b[43mnum_list\u001b[49m\u001b[43m.\u001b[49m\u001b[43minsert\u001b[49m\u001b[43m(\u001b[49m\u001b[43m[\u001b[49m\u001b[32;43m4\u001b[39;49m\u001b[43m,\u001b[49m\u001b[32;43m50\u001b[39;49m\u001b[43m]\u001b[49m\u001b[43m)\u001b[49m  \u001b[38;5;66;03m# Inserting an element at index 4\u001b[39;00m\n\u001b[32m      3\u001b[39m \u001b[38;5;28mprint\u001b[39m(num_list)\n",
      "\u001b[31mTypeError\u001b[39m: insert expected 2 arguments, got 1"
     ]
    }
   ],
   "source": [
    "num_list = [10, 20, 30, 40, 80, 90, 100]\n",
    "num_list.insert(4, 50)  # Inserting an element at index 4\n",
    "print(num_list)"
   ]
  }
 ],
 "metadata": {
  "kernelspec": {
   "display_name": "Python 3",
   "language": "python",
   "name": "python3"
  },
  "language_info": {
   "codemirror_mode": {
    "name": "ipython",
    "version": 3
   },
   "file_extension": ".py",
   "mimetype": "text/x-python",
   "name": "python",
   "nbconvert_exporter": "python",
   "pygments_lexer": "ipython3",
   "version": "3.12.1"
  }
 },
 "nbformat": 4,
 "nbformat_minor": 5
}
